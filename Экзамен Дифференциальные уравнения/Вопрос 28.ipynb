{
    "cells": [
        {
            "cell_type": "markdown",
            "metadata": {},
            "source": [
                "<div style=\"text-align: center; font-size: 24px;\">\n",
                "Метод неопределенных коэффициентов решения системы линейных неоднородных дифференциальных уравнений 1-го порядка с постоянными коэффициентами с правой частью специального вида (с обоснованием).\n",
                "</div>"
            ]
        }
    ],
    "metadata": {
        "language_info": {
            "name": "python"
        }
    },
    "nbformat": 4,
    "nbformat_minor": 2
}
