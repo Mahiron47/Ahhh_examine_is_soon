{
 "cells": [
  {
   "cell_type": "markdown",
   "id": "85cddd43",
   "metadata": {},
   "source": [
    "<div style=\"text-align: center; font-size: 24px;\">\n",
    "Уравнение Бернулли. Развернутый метод решения.\n",
    "</div>"
   ]
  },
  {
   "cell_type": "markdown",
   "id": "11f05cd7",
   "metadata": {},
   "source": [
    "Уравнение Бернулли\n",
    "$$\n",
    "y'+P(x)y=Q(x)y^m\\qquad y=0-\\text{решение}\\\\ \n",
    "(P(x),\\,Q(x))\\text{ }-\\text{ непр - ны на }[\\,a;\\,b\\,],\\,Q(x)\\ne0,\\,\n",
    "m\\ne0\n",
    "$$\n",
    "Для приведения уравнения Бернулли к линейному виду нужно поделить всё уравнение на $y^m$ и занести его под знак дифференциала\n",
    "$$\n",
    "\\frac{1}{1-m}\\frac{dy^{\\,1\\,-\\,m}}{dx}+P(x)y^{\\,1\\,-\\,m}=Q(x)\n",
    "$$"
   ]
  },
  {
   "cell_type": "markdown",
   "id": "a8eeda73",
   "metadata": {},
   "source": [
    "Произведём замену $z(x)=y^{\\,1\\,-\\,m}(x)$\n",
    "$$\n",
    "\\frac{z'}{1-m}+P(x)z=Q(x)\n",
    "$$\n",
    "Дальше же ищем решение как для линейного дифференциального уравнения $\\operatorname I$-ого порядка"
   ]
  }
 ],
 "metadata": {
  "kernelspec": {
   "display_name": "Python 3",
   "language": "python",
   "name": "python3"
  },
  "language_info": {
   "codemirror_mode": {
    "name": "ipython",
    "version": 3
   },
   "file_extension": ".py",
   "mimetype": "text/x-python",
   "name": "python",
   "pygments_lexer": "ipython3",
   "version": "3.8.10"
  }
 },
 "nbformat": 4,
 "nbformat_minor": 5
}
