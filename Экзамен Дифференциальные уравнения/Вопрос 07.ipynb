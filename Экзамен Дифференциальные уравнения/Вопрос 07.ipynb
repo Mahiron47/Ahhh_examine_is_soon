{
 "cells": [
  {
   "cell_type": "markdown",
   "id": "622fd2a0",
   "metadata": {},
   "source": [
    "<div style=\"text-align: center; font-size: 24px;\">\n",
    "Линейные дифференциальные уравнения I-го порядка. Метод Бернулли их решения. \n",
    "</div>"
   ]
  },
  {
   "cell_type": "markdown",
   "id": "ea9a6034",
   "metadata": {},
   "source": [
    "Линейные дифференциальные уравнения $\\operatorname I$-ого порядка\n",
    "$$\n",
    "y'+P(x)y=Q(x)\\qquad (P(x),\\,Q(x))\\text{ }-\\text{ непр-ны на }[\\,a;\\,b\\,]\n",
    "$$\n",
    "Если $Q(x)=0$ то это уравнение с разделяющимися переменными"
   ]
  },
  {
   "cell_type": "markdown",
   "id": "e87404a8",
   "metadata": {},
   "source": [
    "Метод Бернулли $-$ ищем решение в виде произведения фиксированной и произвольной функции\n",
    "$$\n",
    "y(x)=u(x)v(x)\\qquad y'(x)=u'(x)v(x)+u(x)v'(x)\n",
    "$$\n",
    "Подставляем и группируем\n",
    "$$\n",
    "v'u+(u'+P(x)u)v=Q(x)\n",
    "$$\n",
    "Занулим второй член в левой части уравнения, взяв $u(x)$ как произвольный член\n",
    "$$\n",
    "u'+P(x)u=0\n",
    "$$\n",
    "Разделим переменные и проинтегрируем, приравняв константу интегрирования к удобному значению\n",
    "$$\n",
    "\\int\\frac{du}{u}=-\\int P(x)\\,dx\n",
    "$$\n",
    "Подставляем полученное решение в $v'u=Q(x)$, разделяем переменные и интегрируем, а после полученные решения подставляем в изначальную замену\n",
    "$$\n",
    "y(x)=u(x)v(x)\n",
    "$$\n",
    "Это и будет ответом"
   ]
  }
 ],
 "metadata": {
  "kernelspec": {
   "display_name": "Python 3",
   "language": "python",
   "name": "python3"
  },
  "language_info": {
   "codemirror_mode": {
    "name": "ipython",
    "version": 3
   },
   "file_extension": ".py",
   "mimetype": "text/x-python",
   "name": "python",
   "pygments_lexer": "ipython3",
   "version": "3.8.10"
  }
 },
 "nbformat": 4,
 "nbformat_minor": 5
}
