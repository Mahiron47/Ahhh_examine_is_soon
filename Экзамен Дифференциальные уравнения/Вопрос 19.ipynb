{
    "cells": [
        {
            "cell_type": "markdown",
            "metadata": {},
            "source": [
                "<div style=\"text-align: center; font-size: 24px;\">\n",
                "Линейные неоднородные дифференциальные уравнение n-го порядка.\n",
                "Теорема об общем решении линейных неоднородных дифференциальных уравнений n-го порядка (с доказательством).  \n",
                "</div>"
            ]
        }
    ],
    "metadata": {
        "language_info": {
            "name": "python"
        }
    },
    "nbformat": 4,
    "nbformat_minor": 2
}
