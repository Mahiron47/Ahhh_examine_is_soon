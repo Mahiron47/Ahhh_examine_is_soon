{
 "cells": [
  {
   "cell_type": "markdown",
   "id": "214bd2fe",
   "metadata": {},
   "source": [
    "<div style=\"text-align: center; font-size: 24px;\">\n",
    "Классификация поверхностей второго порядка: Эллипсоид. Конус. Эллиптический и      гиперболический параболоиды. Однополостный и двуполостный гиперболоиды. Цилиндры. Линейчатые поверхности. Приведение уравнений поверхностей к каноническому виду путем параллельного переноса системы координат.\n",
    "</div>"
   ]
  },
  {
   "cell_type": "markdown",
   "id": "98cae208",
   "metadata": {},
   "source": [
    "Общее уравнение поверхностей второго порядка\n",
    "$$\n",
    "Ax^2+By^2+Cz^2+Dxy+Exz+Fyz+Gx\\,+\\\\+\\,Ky+Lz+M=0\\qquad A=B=C=D=E=F\\ne0\n",
    "$$"
   ]
  },
  {
   "cell_type": "markdown",
   "id": "ef8c2a0e",
   "metadata": {},
   "source": [
    "Эллипсоид $-$ поверхность второго порядка\n",
    "$$\n",
    "\\frac{x^2}{a^2}+\\frac{y^2}{b^2}+\\frac{z^2}{c^2}=1\n",
    "$$"
   ]
  },
  {
   "cell_type": "markdown",
   "id": "731ac98e",
   "metadata": {},
   "source": [
    "Однополостный гиперболоид $-$ поверхность второго порядка\n",
    "$$\n",
    "\\frac{x^2}{a^2}+\\frac{y^2}{b^2}-\\frac{z^2}{c^2}=1\n",
    "$$"
   ]
  },
  {
   "cell_type": "markdown",
   "id": "83fe21bc",
   "metadata": {},
   "source": [
    "Двухполостный гиперболоид $-$ поверхность второго порядка\n",
    "$$\n",
    "\\frac{x^2}{a^2}-\\frac{y^2}{b^2}-\\frac{z^2}{c^2}=1\n",
    "$$"
   ]
  },
  {
   "cell_type": "markdown",
   "id": "749d377a",
   "metadata": {},
   "source": [
    "Эллиптический параболоид $-$ поверхность второго порядка\n",
    "$$\n",
    "\\frac{x^2}{p}+\\frac{y^2}{q}=2z\\qquad (q,\\,p)>0\\qquad (p,\\,q)<0\n",
    "$$"
   ]
  },
  {
   "cell_type": "markdown",
   "id": "225b1373",
   "metadata": {},
   "source": [
    "Гиперболический параболоид $-$ поверхность второго порядка\n",
    "$$\n",
    "\\frac{x^2}{p}-\\frac{y^2}{q}=2z\\qquad (q,\\,p)>0\n",
    "$$"
   ]
  },
  {
   "cell_type": "markdown",
   "id": "1dd5a7f7",
   "metadata": {},
   "source": [
    "Конус $-$ поверхность второго порядка\n",
    "$$\n",
    "\\frac{x^2}{a^2}+\\frac{y^2}{b^2}-\\frac{z^2}{c^2}=0\n",
    "$$"
   ]
  },
  {
   "cell_type": "markdown",
   "id": "6177ec48",
   "metadata": {},
   "source": [
    "Эллиптический цилиндр $-$ поверхность второго порядка\n",
    "$$\n",
    "\\begin{cases}\n",
    "\\frac{x^2}{a^2}+\\frac{y^2}{b^2}=1\\\\\n",
    "\\forall z\n",
    "\\end{cases}\n",
    "$$"
   ]
  },
  {
   "cell_type": "markdown",
   "id": "b244b9dd",
   "metadata": {},
   "source": [
    "Гиперболический цилиндр $-$ поверхность второго порядка\n",
    "$$\n",
    "\\begin{cases}\n",
    "\\frac{x^2}{a^2}-\\frac{y^2}{b^2}=1\\\\\n",
    "\\forall z\n",
    "\\end{cases}\n",
    "$$"
   ]
  },
  {
   "cell_type": "markdown",
   "id": "9bb2886b",
   "metadata": {},
   "source": [
    "Параболический цилиндр $-$ поверхность второго порядка\n",
    "$$\n",
    "\\begin{cases}\n",
    "x^2=2py\\\\\n",
    "\\forall z\n",
    "\\end{cases}\n",
    "$$"
   ]
  },
  {
   "cell_type": "markdown",
   "id": "5587c6e2",
   "metadata": {},
   "source": [
    "Линейчатые поверхности второго порядка\n",
    "1. Цилиндрические (Эллиптический, гиперболический, параболический)\n",
    "2. Однополостной гиперболоид\n",
    "3. Гиперболический параболоид"
   ]
  }
 ],
 "metadata": {
  "kernelspec": {
   "display_name": "Python 3",
   "language": "python",
   "name": "python3"
  },
  "language_info": {
   "codemirror_mode": {
    "name": "ipython",
    "version": 3
   },
   "file_extension": ".py",
   "mimetype": "text/x-python",
   "name": "python",
   "pygments_lexer": "ipython3",
   "version": "3.8.10"
  }
 },
 "nbformat": 4,
 "nbformat_minor": 5
}
