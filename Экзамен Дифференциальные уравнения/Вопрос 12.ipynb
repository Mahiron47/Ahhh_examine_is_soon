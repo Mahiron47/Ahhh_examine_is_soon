{
 "cells": [
  {
   "cell_type": "markdown",
   "id": "3a368b30",
   "metadata": {},
   "source": [
    "<div style=\"text-align: center; font-size: 24px;\">\n",
    "Уравнение Клеро. Общее и особое решение.\n",
    "</div>"
   ]
  },
  {
   "cell_type": "markdown",
   "id": "clero-equation",
   "metadata": {},
   "source": [
    "Уравнение Клеро\n",
    "$$\n",
    "y=xy'+\\psi(y')\n",
    "$$\n",
    "Используем подход решения дифф уравнений с неявной зависимостью переменных относительно $y$\n",
    "$$\n",
    "y'=p\\qquad\\frac{dy}{dx}=p+(x+\\psi'(p))\\frac{dp}{dx}\n",
    "$$\n",
    "Преобразуем\n",
    "$$\n",
    "(x+\\psi'(p))\\frac{dp}{dx}=0\n",
    "$$\n",
    "Разделим решения\n",
    "$$\n",
    "\\begin{cases}\n",
    "y=Cx+\\psi(C)\\\\\n",
    "x=-\\psi'(C)\n",
    "\\end{cases}\n",
    "$$"
   ]
  }
 ],
 "metadata": {
  "kernelspec": {
   "display_name": "Python 3",
   "language": "python",
   "name": "python3"
  },
  "language_info": {
   "codemirror_mode": {
    "name": "ipython",
    "version": 3
   },
   "file_extension": ".py",
   "mimetype": "text/x-python",
   "name": "python",
   "pygments_lexer": "ipython3",
   "version": "3.8.10"
  }
 },
 "nbformat": 4,
 "nbformat_minor": 5
}
