{
    "cells": [
        {
            "cell_type": "markdown",
            "metadata": {},
            "source": [
                "<div style=\"text-align: center; font-size: 24px;\">\n",
                "Системы дифференциальных уравнений 1-го порядка. Векторная форма записи. Сведение к одному дифференциальному уравнению более высокого порядка.\n",
                "</div>"
            ]
        }
    ],
    "metadata": {
        "language_info": {
            "name": "python"
        }
    },
    "nbformat": 4,
    "nbformat_minor": 2
}
