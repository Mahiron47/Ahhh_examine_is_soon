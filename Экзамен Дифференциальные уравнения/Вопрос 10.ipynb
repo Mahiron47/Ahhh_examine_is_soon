{
 "cells": [
  {
   "cell_type": "markdown",
   "metadata": {},
   "source": [
    "<div style=\"text-align: center; font-size: 24px;\">\n",
    "Методы решения дифференциальных уравнений I-го порядка, неразрешенных относительно производных.\n",
    "</div>"
   ]
  },
  {
   "cell_type": "markdown",
   "metadata": {},
   "source": [
    "Уравнения не разрешённые относительно $y'$\n",
    "$$\n",
    "F(x,\\,y,\\,y')=0\n",
    "$$\n",
    "Решение выглядит следующим образом\n",
    "$$\n",
    "\\begin{cases}\n",
    "\\displaystyleФ(y,\\,x,\\,C)=0\\\\\n",
    "\\displaystyle\\frac{\\delta Ф}{\\delta C}=0\n",
    "\\end{cases}\n",
    "$$\n",
    "Нижнее уравнение является уравнением огибающих семейства кривых"
   ]
  },
  {
   "cell_type": "markdown",
   "metadata": {},
   "source": [
    "Уравнения без явной связи $y'$ с переменными\n",
    "$$\n",
    "F(y')=0\n",
    "$$\n",
    "Вывод $:$  \n",
    "Допускаем, что существует действительный корень\n",
    "$$\n",
    "y'=k\\Longrightarrow Ф(k)=0\n",
    "$$\n",
    "Значит можем получить\n",
    "$$\n",
    "\\frac{dy}{dx}=k\\iff y=kx+C\\iff k=\\frac{y-C}{x}\n",
    "$$\n",
    "Решение выглядит следующим образом\n",
    "$$\n",
    "\\begin{cases}\n",
    "\\displaystyleФ\\left(\\frac{y\\,-\\,C}{x}\\right)=0\\\\\n",
    "\\displaystyle\\exists k\\in R:y'=k\n",
    "\\end{cases}\n",
    "$$"
   ]
  },
  {
   "cell_type": "markdown",
   "metadata": {},
   "source": [
    "Уравнения без явной связи $y'$ с $y$\n",
    "$$\n",
    "F(y',\\,x)=0\n",
    "$$\n",
    "Вывод $:$  \n",
    "Предположим, что производная равна некоторой $p$, $x$ же тогда будет этому самому выражению $\\varphi$ от $p$\n",
    "$$\n",
    "y'=p\\qquad x=\\varphi(p)\n",
    "$$\n",
    "Выразим $y$\n",
    "$$\n",
    "\\frac{dy}{dx}=p\\iff dy=pdx\\iff y=\\int p\\varphi'(p)dp\n",
    "$$\n",
    "Решение выглядит следующим образом\n",
    "$$\n",
    "\\begin{cases}\n",
    "\\displaystyle y(x)=\\int p\\varphi'(p)dp\\\\\n",
    "\\displaystyle x=\\varphi(p)\n",
    "\\end{cases}\n",
    "$$"
   ]
  },
  {
   "cell_type": "markdown",
   "metadata": {},
   "source": [
    "Уравнения без явной связи $y'$ с $x$\n",
    "$$\n",
    "F(y',\\,y)=0\n",
    "$$\n",
    "Решение выглядит следующим образом\n",
    "$$\n",
    "\\begin{cases}\n",
    "\\displaystyle x=\\int \\frac{\\psi'(p)}{p}dp\\\\\n",
    "\\displaystyle y=\\psi(p)\n",
    "\\end{cases}\n",
    "$$"
   ]
  },
  {
   "cell_type": "markdown",
   "metadata": {},
   "source": [
    "Уравнения с нестандартной связью переменных относительно $x$\n",
    "$$\n",
    "x=f(y',\\,y)\n",
    "$$\n",
    "Возьмём замену производной и распишем полный дифференциал\n",
    "$$\n",
    "y'=p\\qquad dx=\\frac{\\delta x}{\\delta y}dy+\\frac{\\delta x}{\\delta p}dp\n",
    "$$\n",
    "Возьмём производную $x'_y$\n",
    "$$\n",
    "\\frac{dx}{dy}=\\frac{\\delta x}{\\delta y}+\\frac{\\delta x}{\\delta p}\\frac{dp}{dy}\\iff\\frac{1}{p}=\\frac{\\delta x}{\\delta y}+\\frac{\\delta x}{\\delta p}\\frac{dp}{dy}\n",
    "$$\n",
    "Решение выглядит следующим образом\n",
    "$$\n",
    "\\begin{cases}\n",
    "\\displaystyle x=f(y',\\,y)\\\\\n",
    "\\displaystyle Ф(y,\\,p,\\,C)=0\n",
    "\\end{cases}\n",
    "$$"
   ]
  },
  {
   "cell_type": "markdown",
   "metadata": {},
   "source": [
    "Уравнения с нестандартной связью переменных относительно $y$\n",
    "$$\n",
    "y=f(y',\\,x)\n",
    "$$\n",
    "Возьмём замену производной и распишем полный дифференциал\n",
    "$$\n",
    "y'=p\\qquad dy=\\frac{\\delta y}{\\delta x}dx+\\frac{\\delta y}{\\delta p}dp\n",
    "$$\n",
    "Возьмём производную $y'_x$\n",
    "$$\n",
    "\\frac{dy}{dx}=\\frac{\\delta y}{\\delta x}+\\frac{\\delta y}{\\delta p}\\frac{dp}{dx}\\iff p=\\frac{\\delta y}{\\delta x}+\\frac{\\delta y}{\\delta p}\\frac{dp}{dx}\n",
    "$$\n",
    "Решение выглядит следующим образом\n",
    "$$\n",
    "\\begin{cases}\n",
    "\\displaystyle y=f(y',\\,x)\\\\\n",
    "\\displaystyle Ф(x,\\,p,\\,C)=0\n",
    "\\end{cases}\n",
    "$$"
   ]
  }
 ],
 "metadata": {
  "language_info": {
   "name": "python"
  }
 },
 "nbformat": 4,
 "nbformat_minor": 2
}
