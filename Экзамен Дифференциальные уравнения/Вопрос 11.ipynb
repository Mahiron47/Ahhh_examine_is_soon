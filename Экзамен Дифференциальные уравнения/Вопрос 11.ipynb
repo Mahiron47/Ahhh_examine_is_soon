{
   "cells": [
      {
         "cell_type": "markdown",
         "id": "7d488980",
         "metadata": {},
         "source": [
            "<div style=\"text-align: center; font-size: 24px;\">\n",
            "Уравнение Лагранжа. Общее и особое решение.\n",
            "</div>"
         ]
      },
      {
         "cell_type": "markdown",
         "metadata": {},
         "source": [
            "Уравнение Лагранжа\n",
            "$$\n",
            "y=x\\varphi(y')+\\psi(y')\n",
            "$$\n",
            "Используем подход решения дифференциальных уравнений с неявной зависимостью переменных относительно $y$\n",
            "$$\n",
            "y'=p\\qquad p=\\varphi(p)+(x\\varphi'(p)+\\psi'(p))\\frac{dp}{dx}\n",
            "$$\n",
            "После некоторых преобразований получим\n",
            "$$\n",
            "x'=\\frac{x\\varphi'(p)}{p-\\varphi(p)}+\\frac{\\psi'(p)}{p-\\varphi(p)}\n",
            "$$\n",
            "Что является линейным дифференциальным уравнением и решается методом Бернулли\n",
            "Берём функции\n",
            "$$\n",
            "x(p)=u(p)v(p)\\qquad x'=u'v+uv'\n",
            "$$\n",
            "Расписываем уравнение\n",
            "$$\n",
            "u'v+(v'-\\frac{\\varphi'(p)}{p-\\varphi(p)}v)u=\\frac{\\psi'(p)}{p-\\varphi(p)}\n",
            "$$\n",
            "Выделим произвольную функцию\n",
            "$$\n",
            "v'-\\frac{\\varphi'(p)}{p-\\varphi(p)}v=0\n",
            "$$\n",
            "Вычислим\n",
            "$$\n",
            "v=\\int\\frac{\\varphi'(p)dp}{p-\\varphi(p)}\n",
            "$$ \n",
            "Получим $:$\n",
            "$$\n",
            "\\displaystyle x(p)=\\int\\frac{\\begin{aligned}\\frac{\\psi'(p)dp}{p-\\varphi(p)}\\end{aligned}}{\\begin{aligned}\\int\\frac{\\varphi'(p)dp}{p-\\varphi(p)}\\end{aligned}}\\int\\frac{\\varphi'(p)dp}{p-\\varphi(p)}\\\\\n",
            "$$\n",
            "Общее решение будет получено при помощи подстановки $y'=C$, а особое решение при помощи подстановки $x=x(p)$ в уравнение."
         ]
      }
   ],
   "metadata": {
      "kernelspec": {
         "display_name": "Python 3",
         "language": "python",
         "name": "python3"
      },
      "language_info": {
         "codemirror_mode": {
            "name": "ipython",
            "version": 3
         },
         "file_extension": ".py",
         "mimetype": "text/x-python",
         "name": "python",
         "pygments_lexer": "ipython3",
         "version": "3.8.10"
      }
   },
   "nbformat": 4,
   "nbformat_minor": 5
}
