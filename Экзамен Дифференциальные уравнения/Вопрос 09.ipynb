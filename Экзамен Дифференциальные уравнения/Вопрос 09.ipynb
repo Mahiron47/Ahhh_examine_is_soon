{
 "cells": [
  {
   "cell_type": "markdown",
   "metadata": {},
   "source": [
    "<div style=\"text-align: center; font-size: 24px;\">\n",
    "Уравнения в полных дифференциалах. Критерий Эйлера. Интегрирование уравнения в полных дифференциалах.\n",
    "</div>"
   ]
  },
  {
   "cell_type": "markdown",
   "metadata": {},
   "source": [
    "Уравнение в полных дифференциалах\n",
    "$$\n",
    "du(x,\\,y)=M(x,\\,y)dx+N(x,\\,y)dy=0\\qquad \\frac{\\delta M}{\\delta y}=\\frac{\\delta N}{\\delta x}\n",
    "$$"
   ]
  },
  {
   "cell_type": "markdown",
   "metadata": {},
   "source": [
    "Критерий Эйлера $-$ это условие, при котором уравнение, записанное в дифференциальном виде, можно определить как уравнение в полных дифференциалах\n",
    "$$\n",
    "\\frac{\\delta M}{\\delta y}=\\frac{\\delta N}{\\delta x}\n",
    "$$"
   ]
  },
  {
   "cell_type": "markdown",
   "metadata": {},
   "source": [
    "Сначала представляем $M(x,\\,y)$ как\n",
    "$$\n",
    "\\frac{\\delta u(x,\\,y)}{\\delta x}=M(x,\\,y)\n",
    "$$\n",
    "При интегрировании получаем\n",
    "$$\n",
    "u(x, \\, y)=\\int M(x,\\,y)\\,\\delta x+\\varphi(y)\n",
    "$$\n",
    "Рассмотрим зависимость по $y$\n",
    "$$\n",
    "\\frac{\\delta u(x,\\,y)}{\\delta y}=N(x,\\,y)\\quad \\frac{\\delta u(x,\\,y)}{\\delta y}=\\left(\\int M(x,\\,y)\\,\\delta x\\right)_y'+\\varphi'(y)\n",
    "$$\n",
    "Приравняв частную производную функции, получим однозначную зависимость по $y$\n",
    "$$\n",
    "\\varphi(y)=\\int\\Phi(y)\\,dy\n",
    "$$\n",
    "Ответом же будет общий интеграл вида\n",
    "$$\n",
    "u(x,\\,y)=\\operatorname{const}\n",
    "$$"
   ]
  },
  {
   "cell_type": "markdown",
   "metadata": {},
   "source": [
    "Интегрирующий множитель $-$ принцип домножения дифференциального уравнения, сводимого к уравнению в полных дифференциалах, множителем в виде функции $\\mu(x,\\,y)$\n",
    "$$\n",
    "\\mu(x,\\,y)(M(x,\\,y)dx+N(x,\\,y)dy)=0\\quad \\frac{\\delta\\mu M}{\\delta y}=\\frac{\\delta\\mu N}{\\delta x}\n",
    "$$"
   ]
  }
 ],
 "metadata": {
  "language_info": {
   "name": "python"
  }
 },
 "nbformat": 4,
 "nbformat_minor": 2
}
