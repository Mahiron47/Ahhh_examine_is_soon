{
    "cells": [
        {
            "cell_type": "markdown",
            "metadata": {},
            "source": [
                "<div style=\"text-align: center; font-size: 24px;\">\n",
                "Линейные однородные дифференциальные уравнение n-го порядка. \n",
                "Фундаментальная система решений.  Теорема об общем решении линейного однородного дифференциального уравнения n-го порядка (с доказательством). \n",
                "\n",
                "</div>"
            ]
        }
    ],
    "metadata": {
        "language_info": {
            "name": "python"
        }
    },
    "nbformat": 4,
    "nbformat_minor": 2
}
