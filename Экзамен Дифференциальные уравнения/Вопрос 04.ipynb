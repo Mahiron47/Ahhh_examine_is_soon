{
 "cells": [
  {
   "cell_type": "markdown",
   "metadata": {
    "slideshow": {
     "slide_type": "notes"
    }
   },
   "source": [
    "<div style=\"text-align: center; font-size: 24px;\">\n",
    "Понятие обыкновенного дифференциального уравнения I-го порядка. Общее решение. Общий интеграл. Изоклины. Поле направлений.\n",
    "</div>"
   ]
  },
  {
   "cell_type": "markdown",
   "id": "6430ca1e",
   "metadata": {},
   "source": [
    "Дифференциальное уравнение $-$ это некоторая связь между $x$ и производными функции $y(x)$ вплоть до $n$-ого порядка\n",
    "$$\n",
    "F(y(x),\\,y'(x),\\,...,\\,y^{(n)},\\,x)=0\\qquad a<x<b\n",
    "$$"
   ]
  },
  {
   "cell_type": "markdown",
   "id": "d8097d43",
   "metadata": {},
   "source": [
    "Дифференциальное уравнение $\\operatorname I$-ого порядка\n",
    "$$\n",
    "F(y(x),\\,y'(x),\\,x)=0\n",
    "$$"
   ]
  },
  {
   "cell_type": "markdown",
   "id": "1b63c7eb",
   "metadata": {},
   "source": [
    "Уравнение разрешённое относительно первой производной\n",
    "$$\n",
    "y'=f(x,\\,y)\n",
    "$$"
   ]
  },
  {
   "cell_type": "markdown",
   "id": "4870dd9a",
   "metadata": {},
   "source": [
    "Общее решение дифференциального уравнения\n",
    "$$\n",
    "y = y(x,\\,C)\n",
    "$$"
   ]
  },
  {
   "cell_type": "markdown",
   "id": "d2eb031a",
   "metadata": {},
   "source": [
    "Частное решение дифференциального уравнения\n",
    "$$\n",
    "y = y(x,\\,C)\\qquad\\exists C\n",
    "$$"
   ]
  },
  {
   "cell_type": "markdown",
   "id": "ae70c288",
   "metadata": {},
   "source": [
    "Решение в виде общего интеграла\n",
    "$$\n",
    "Ф(y(x),\\,x,\\,C)=0\n",
    "$$"
   ]
  },
  {
   "cell_type": "markdown",
   "id": "2644d0dd",
   "metadata": {},
   "source": [
    "Поле направлений $-$ это совокупность всех касательных к интегральным кривым\n",
    "$$\n",
    "y'=f(x,\\,y)\n",
    "$$\n",
    "Интегральная кривая $-$ это решение дифференциального уравнения с фиксированной постоянной $C$\n",
    "$$\n",
    "y = y(x,\\,C)\\qquad\\exists C\n",
    "$$\n",
    "Изоклина $-$ геометрическое место точек, в которых касательные к интегральным кривым имеют одинаковое направление\n",
    "$$\n",
    "y'(x)=\\operatorname{tg}(x,\\,y)=f(x,\\,y)=k\n",
    "$$"
   ]
  }
 ],
 "metadata": {
  "kernelspec": {
   "display_name": "Python 3",
   "language": "python",
   "name": "python3"
  },
  "language_info": {
   "codemirror_mode": {
    "name": "ipython",
    "version": 3
   },
   "file_extension": ".py",
   "mimetype": "text/x-python",
   "name": "python",
   "pygments_lexer": "ipython3",
   "version": "3.8.10"
  }
 },
 "nbformat": 4,
 "nbformat_minor": 5
}
