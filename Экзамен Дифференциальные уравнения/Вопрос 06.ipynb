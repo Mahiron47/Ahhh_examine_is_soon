{
 "cells": [
  {
   "cell_type": "markdown",
   "id": "8ac3fd69",
   "metadata": {},
   "source": [
    "<div style=\"text-align: center; font-size: 24px;\">\n",
    "Однородные функции двух переменных. Однородные дифференциальные уравнения первого порядка.\n",
    "</div>"
   ]
  },
  {
   "cell_type": "markdown",
   "id": "5be68537",
   "metadata": {},
   "source": [
    "Однородные дифференциальные уравнения $\\operatorname I$-ого порядка\n",
    "$$\n",
    "y'=f\\left(\\frac{y}{x}\\right)\n",
    "$$"
   ]
  },
  {
   "cell_type": "markdown",
   "id": "17023d47",
   "metadata": {},
   "source": [
    "Решается заменой переменной \n",
    "$$\n",
    "z=\\frac{y}{x}\\qquad y'=z'x+z\n",
    "$$\n",
    "Подставляя в уравнение, получаем\n",
    "$$\n",
    "z'x+z=f(z)\n",
    "$$\n",
    "Группируется по переменным и интегрируется\n",
    "$$\n",
    "\\int\\frac{dx}{x}=\\int\\frac{dz}{f(z)-z}\n",
    "$$\n",
    "Включить решения, которые были потеряны"
   ]
  },
  {
   "cell_type": "markdown",
   "id": "56842b1d",
   "metadata": {},
   "source": [
    "Однородные дифференциальные уравнения $\\operatorname I$-ого порядка в дифференциалах\n",
    "$$\n",
    "M(x,\\,y)dx+N(x,\\,y)dy=0\\qquad \\frac{M(\\lambda x, \\lambda y)}{M(x,\\,y)}=\\frac{N(\\lambda x, \\lambda y)}{N(x,\\,y)}\n",
    "$$\n",
    "Всегда приводится к однородному дифференциальному уравнению $\\operatorname I$-ого порядка"
   ]
  },
  {
   "cell_type": "markdown",
   "id": "be8b55e9",
   "metadata": {},
   "source": [
    "Приводимые однородные дифференциальные уравнения $\\operatorname I$-ого порядка\n",
    "$$\n",
    "y'=f\\left(\\frac{Ax+By+C}{Dx+Ey+F}\\right)\\qquad \\begin{cases}Ax+By+C=0\\\\Dx+Ey+F=0\\end{cases}\n",
    "$$"
   ]
  },
  {
   "cell_type": "markdown",
   "id": "b0ca825a",
   "metadata": {},
   "source": [
    "Если $\\Delta=\\left|\\begin{matrix}A\\ B\\\\D\\ E\\ \\end{matrix}\\right|=0$ то достаточно выполнить замену $t=Ax+By$ после подстановки которой получим\n",
    "$$\n",
    "t'=f\\left(\\frac{t}{x}\\right)\n",
    "$$"
   ]
  },
  {
   "cell_type": "markdown",
   "id": "cae229c0",
   "metadata": {},
   "source": [
    "Если же $\\Delta=\\left|\\begin{matrix}A\\ B\\\\D\\ E\\ \\end{matrix}\\right|\\ne0$ то нужно выполнить замену вида $x=u+\\alpha\\quad y=v+\\beta$ где $\\alpha$ и $\\beta$ решения системы уравнений"
   ]
  }
 ],
 "metadata": {
  "kernelspec": {
   "display_name": "Python 3",
   "language": "python",
   "name": "python3"
  },
  "language_info": {
   "codemirror_mode": {
    "name": "ipython",
    "version": 3
   },
   "file_extension": ".py",
   "mimetype": "text/x-python",
   "name": "python",
   "pygments_lexer": "ipython3",
   "version": "3.8.10"
  }
 },
 "nbformat": 4,
 "nbformat_minor": 5
}
