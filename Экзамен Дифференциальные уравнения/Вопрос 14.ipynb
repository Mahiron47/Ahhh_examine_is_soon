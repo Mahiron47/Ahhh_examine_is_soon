{
 "cells": [
  {
   "cell_type": "markdown",
   "id": "a669b7bf",
   "metadata": {},
   "source": [
    "<div style=\"text-align: center; font-size: 24px;\">\n",
    "Дифференциальные уравнения n-го порядка. Простейшие случаи понижения порядка дифференциального уравнения. Нахождение интегрируемых комбинаций.\n",
    "</div>"
   ]
  }
 ],
 "metadata": {
  "kernelspec": {
   "display_name": "Python 3",
   "language": "python",
   "name": "python3"
  },
  "language_info": {
   "codemirror_mode": {
    "name": "ipython",
    "version": 3
   },
   "file_extension": ".py",
   "mimetype": "text/x-python",
   "name": "python",
   "pygments_lexer": "ipython3",
   "version": "3.8.10"
  }
 },
 "nbformat": 4,
 "nbformat_minor": 5
}
