{
 "cells": [
  {
   "cell_type": "markdown",
   "id": "939ada44",
   "metadata": {},
   "source": [
    "<div style=\"text-align: center; font-size: 24px;\">\n",
    "Уравнения с разделяющимися переменными и приводимые к ним.\n",
    "</div>"
   ]
  },
  {
   "cell_type": "markdown",
   "id": "e8638467",
   "metadata": {},
   "source": [
    "Дифференциальные уравнения $\\operatorname I$-ого порядка с разделяющимися переменными\n",
    "$$\n",
    "\\varphi_1(x)\\varphi_2(y)dx+\\psi_1(x)\\psi_2(y)dy=0\n",
    "$$"
   ]
  },
  {
   "cell_type": "markdown",
   "id": "4db0a500",
   "metadata": {},
   "source": [
    "Для решения переносим $\\Longrightarrow$ группируем функции от одинаковых переменных под соответствующими дифференциалами $\\Longrightarrow$ интегрируем обе части $\\Longrightarrow$ выражаем общее решение\n",
    "$$\n",
    "\\int\\frac{\\varphi_1(x)}{\\psi_1(x)}\\,dx=-\\int\\frac{\\psi_2(y)}{\\varphi_2(y)}\\,dy\n",
    "$$"
   ]
  },
  {
   "cell_type": "markdown",
   "id": "1e08c1c5",
   "metadata": {},
   "source": [
    "Включить потерянные решения $\\psi_1(x)=0$ и $\\varphi_2(y)=0$ и исключить из общего решения значения константы, зануляющие $\\psi_1(x)$ и $\\varphi_2(y)$"
   ]
  },
  {
   "cell_type": "markdown",
   "id": "c3b3291e",
   "metadata": {},
   "source": [
    "Дифференциальные уравнения $\\operatorname I$-ого порядка с разделяющимися переменными (неприведённые)\n",
    "$$\n",
    "y'=f(Ax+By+C)\n",
    "$$"
   ]
  },
  {
   "cell_type": "markdown",
   "id": "20df6686",
   "metadata": {},
   "source": [
    "Приводятся заменой $z=Ax+By+C\\quad y'=\\frac{z'-A}{B}$\n",
    "$$\n",
    "\\frac{z'-A}{B}=f(z)\n",
    "$$"
   ]
  }
 ],
 "metadata": {
  "kernelspec": {
   "display_name": "Python 3",
   "language": "python",
   "name": "python3"
  },
  "language_info": {
   "codemirror_mode": {
    "name": "ipython",
    "version": 3
   },
   "file_extension": ".py",
   "mimetype": "text/x-python",
   "name": "python",
   "pygments_lexer": "ipython3",
   "version": "3.8.10"
  }
 },
 "nbformat": 4,
 "nbformat_minor": 5
}
