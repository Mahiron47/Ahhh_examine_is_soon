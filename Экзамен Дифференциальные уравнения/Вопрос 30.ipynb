{
 "cells": [
  {
   "cell_type": "markdown",
   "metadata": {},
   "source": [
    "<div style=\"text-align: center; font-size: 24px;\">\n",
    "Понятие устойчивости решения системы дифференциальных уравнений по Ляпунову. Асимптотическая устойчивость. Понятие точки покоя системы дифференциальных уравнений.\n",
    "</div>"
   ]
  }
 ],
 "metadata": {
  "language_info": {
   "name": "python"
  }
 },
 "nbformat": 4,
 "nbformat_minor": 2
}
