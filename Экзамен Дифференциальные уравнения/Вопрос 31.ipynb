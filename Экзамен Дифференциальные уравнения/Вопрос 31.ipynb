{
 "cells": [
  {
   "cell_type": "markdown",
   "metadata": {},
   "source": [
    "<div style=\"text-align: center; font-size: 24px;\">\n",
    "Классификация точек покоя (узел, седло, фокус, центр). Построение фазовых траекторий. Обоснование устойчивости/неустойчивости точек покоя различных типов на частных примерах.\n",
    "</div>"
   ]
  }
 ],
 "metadata": {
  "language_info": {
   "name": "python"
  }
 },
 "nbformat": 4,
 "nbformat_minor": 2
}
