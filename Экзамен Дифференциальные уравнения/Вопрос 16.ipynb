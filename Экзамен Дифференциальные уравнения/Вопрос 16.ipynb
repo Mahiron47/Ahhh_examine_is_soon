{
 "cells": [
  {
   "cell_type": "markdown",
   "id": "eee9698d",
   "metadata": {},
   "source": [
    "<div style=\"text-align: center; font-size: 24px;\">\n",
    "Линейная независимость функций. Определитель Вронского и его свойства. Теоремы об определителе Вронского (с доказательством).\n",
    "</div>"
   ]
  },
  {
   "cell_type": "markdown",
   "id": "048c98fe",
   "metadata": {},
   "source": [
    "Линейная независимость функций на $[\\,a,\\,b\\,]$ $:$ пусть функции $(y_1(x),\\,y_2(x),\\,...,\\,y_n(x))$ определены на $[\\,a,\\,b\\,]$. Функции $(y_1(x),\\,y_2(x),\\,...,\\,y_n(x))$ называются линейно зависимыми $,$ если $\\exists(\\alpha_1,\\,\\alpha_2,\\,...,\\,\\alpha_n)\\ne0$ одновременно $,$ что $:$\n",
    "$$\n",
    "\\alpha_1y_1(x)+\\alpha_2y_2(x)+\\,...\\,+\\alpha_ny_n(x)=0\\qquad\\forall x\\in [\\,a,\\,b\\,]\n",
    "$$\n",
    "В противном случае функции линейно независимы"
   ]
  },
  {
   "cell_type": "markdown",
   "id": "85ba77f2",
   "metadata": {},
   "source": [
    "**Т (Об определителе Вронского)** $:$ если функции $(y_1(x),\\,y_2(x),\\,...,\\,y_n(x))$ линейно зависимы на некотором отрезке $,$ то определитель \n",
    "$$\n",
    "\\left|\\begin{matrix}\n",
    "y_1(x) & y_2(x) & \\dots & y_n(x) \\\\ \n",
    "y'_1(x) & y'_2(x) & \\dots & y'_n(x) \\\\ \n",
    "\\vdots & \\vdots & \\ddots & \\vdots \\\\ \n",
    "y^{(n-1)}_1(x) & y^{(n-1)}_2(x) & \\dots & y^{(n-1)}_n(x)\n",
    "\\end{matrix}\\right| = 0 \\qquad \\forall x \\in [\\,a;\\,b\\,]\n",
    "$$\n",
    "\n",
    "**Док-во** $:$ предположим, что $(y_1(x),\\,y_2(x),\\,...,\\,y_n(x))$ — линейно зависимы на некотором отрезке $[\\,a;\\,b\\,]$, значит $\\exists(\\alpha_1,\\,\\alpha_2,\\,...,\\,\\alpha_n)\\ne0$ одновременно, что связка \n",
    "$$\n",
    "\\alpha_1y_1(x) + \\alpha_2y_2(x) + \\dots + \\alpha_ny_n(x) = 0 \\qquad \\forall x \\in [\\,a,\\,b\\,]\n",
    "$$\n",
    "\n",
    "Продеферинцируем её $n-1$ раз:\n",
    "$$\n",
    "\\begin{cases}\n",
    "\\alpha_1y_1(x) + \\alpha_2y_2(x) + \\dots + \\alpha_ny_n(x) = 0 \\\\ \n",
    "\\alpha_1y'_1(x) + \\alpha_2y'_2(x) + \\dots + \\alpha_ny'_n(x) = 0 \\\\ \n",
    "\\vdots \\\\ \n",
    "\\alpha_1y_1^{(n-1)}(x) + \\alpha_2y_2^{(n-1)}(x) + \\dots + \\alpha_ny_n^{(n-1)}(x) = 0\n",
    "\\end{cases}\n",
    "$$\n",
    "\n",
    "Система имеет нетривиальное решение по условию, так как $\\exists(\\alpha_1,\\,\\alpha_2,\\,...,\\,\\alpha_n)\\ne0$ одновременно, а так как условие сочетания нетривиального решения системы является равенство нулю её определителя, то $:$\n",
    "$$\n",
    "\\left|\\begin{matrix}\n",
    "y_1(x) & y_2(x) & \\dots & y_n(x) \\\\ \n",
    "y'_1(x) & y'_2(x) & \\dots & y'_n(x) \\\\ \n",
    "\\vdots & \\vdots & \\ddots & \\vdots \\\\ \n",
    "y^{(n-1)}_1(x) & y^{(n-1)}_2(x) & \\dots & y^{(n-1)}_n(x)\n",
    "\\end{matrix}\\right| = 0\n",
    "$$\n",
    "что и является определителем Вронского. $\\blacksquare$  "
   ]
  },
  {
   "cell_type": "markdown",
   "id": "a2b31834",
   "metadata": {},
   "source": [
    "**Т (Об определителе Вронского)** $:$ если $(y_1(x),\\,y_2(x),\\,...,\\,y_n(x))\\ -$ линейно независимая система функций на некотором отрезке $[\\,a;\\,b\\,]$ и при этом решения $Ly=0$ ($P_i(x)\\ -$ непрерывны на заданном отрезке $[\\,a,\\,b\\,]$) $,$ то \n",
    "$$\n",
    "W(y_1,\\,y_2,\\,...,\\,y_n)=\\left|\\begin{matrix}y_1(x)\\qquad y_2(x)\\qquad ...\\qquad y_n(x)\\\\ y'_1(x)\\qquad y'_2(x)\\qquad ...\\qquad y'_n(x)\\\\.....\\qquad.....\\qquad...\\qquad.....\\\\y^{(n-1)}_1(x)\\ y^{(n-1)}_2(x)\\ \\ \\,...\\ y^{(n-1)}_n(x)\\end{matrix}\\right|\\ne0\n",
    "$$\n"
   ]
  }
 ],
 "metadata": {
  "kernelspec": {
   "display_name": "Python 3",
   "language": "python",
   "name": "python3"
  },
  "language_info": {
   "codemirror_mode": {
    "name": "ipython",
    "version": 3
   },
   "file_extension": ".py",
   "mimetype": "text/x-python",
   "name": "python",
   "pygments_lexer": "ipython3",
   "version": "3.8.10"
  }
 },
 "nbformat": 4,
 "nbformat_minor": 5
}
