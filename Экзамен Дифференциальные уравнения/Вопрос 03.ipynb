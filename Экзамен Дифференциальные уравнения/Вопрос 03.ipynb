{
 "cells": [
  {
   "cell_type": "markdown",
   "id": "0f09421b",
   "metadata": {},
   "source": [
    "<div style=\"text-align: center; font-size: 24px;\">\n",
    "Собственные значения и собственные вектора матрицы квадратичной формы. Приведение ее к диагональному виду.\n",
    "</div>"
   ]
  },
  {
   "cell_type": "markdown",
   "id": "7e5daa3a",
   "metadata": {},
   "source": [
    "Собственные значения матрицы квадратичного типа ищутся из\n",
    "$$\n",
    "\\det{(A-\\lambda E)}=0\n",
    "$$"
   ]
  },
  {
   "cell_type": "markdown",
   "id": "aa7cfa71",
   "metadata": {},
   "source": [
    "Собственные векторы матрицы квадратичной формы ищутся из\n",
    "$$\n",
    "\\det{(A-\\lambda_iE)}\\left(\\begin{matrix}x_i\\\\y_i\\end{matrix}\\right)=0\n",
    "$$"
   ]
  },
  {
   "cell_type": "markdown",
   "id": "05746271",
   "metadata": {},
   "source": [
    "Приведение к диагональному виду элементарно"
   ]
  }
 ],
 "metadata": {
  "kernelspec": {
   "display_name": "Python 3",
   "language": "python",
   "name": "python3"
  },
  "language_info": {
   "codemirror_mode": {
    "name": "ipython",
    "version": 3
   },
   "file_extension": ".py",
   "mimetype": "text/x-python",
   "name": "python",
   "pygments_lexer": "ipython3",
   "version": "3.8.10"
  }
 },
 "nbformat": 4,
 "nbformat_minor": 5
}
