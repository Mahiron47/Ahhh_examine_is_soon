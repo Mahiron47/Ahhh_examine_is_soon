{
    "cells": [
        {
            "cell_type": "markdown",
            "metadata": {},
            "source": [
                "<div style=\"text-align: center; font-size: 24px;\">\n",
                "Уравнение Эйлера. Сведение к уравнению с постоянными коэффициентами. \n",
                "(развернутый вывод).\n",
                "</div>"
            ]
        },
        {
            "cell_type": "markdown",
            "metadata": {},
            "source": [
                "Уравнение Эйлера с постоянными коэффициэнтами имеет вид $:$\n",
                "$$\n",
                "a_0x^ny^{(n)}(x)+a_1x^{n-1}y^{(n-1)}(x)\\,+\\,...\\,+\\,a_ny(x)=0\n",
                "$$"
            ]
        },
        {
            "cell_type": "markdown",
            "metadata": {},
            "source": [
                "Решается заменой $x=e^t$\n",
                "$$\n",
                "\\frac{dx}{dt}=e^t\\qquad\\frac{dt}{dx}=e^{-t}\n",
                "$$\n",
                "Получим первую производную\n",
                "$$\n",
                "\\frac{dy}{dx}=\\frac{dy}{dt}\\frac{dt}{dx}\\qquad\\frac{dy}{dx}=e^{-t}\\frac{dy}{dt}\n",
                "$$\n",
                "Вторая производная\n",
                "$$\n",
                "\\frac{d^2y}{dx^2}=\\frac{d}{dx}\\left(\\frac{dy}{dx}\\right)=\\frac{d}{dt}\\left(\\frac{dy}{dx}\\right)\\frac{dt}{dx}=\\frac{d}{dt}\\left(e^{-t}\\frac{dy}{dt}\\right)e^{-t}=e^{-2t}\\left(\\frac{d^2y}{dt^2}-\\frac{dy}{dt}\\right)\n",
                "$$\n",
                "И так далее до $n$-ой производной, после чего подставив в уравнение Эйлера и сгруппировав, получим линейное уравнение с постоянными коэффициентами."
            ]
        }
    ],
    "metadata": {
        "language_info": {
            "name": "python"
        }
    },
    "nbformat": 4,
    "nbformat_minor": 2
}
