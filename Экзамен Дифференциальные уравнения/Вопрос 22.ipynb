{
    "cells": [
        {
            "cell_type": "markdown",
            "metadata": {},
            "source": [
                "<div style=\"text-align: center; font-size: 24px;\">\n",
                "Уравнение Эйлера. Сведение к уравнению с постоянными коэффициентами. \n",
                "(развернутый вывод).\n",
                "</div>"
            ]
        }
    ],
    "metadata": {
        "language_info": {
            "name": "python"
        }
    },
    "nbformat": 4,
    "nbformat_minor": 2
}
