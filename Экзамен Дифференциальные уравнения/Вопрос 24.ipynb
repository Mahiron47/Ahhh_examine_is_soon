{
    "cells": [
        {
            "cell_type": "markdown",
            "metadata": {},
            "source": [
                "<div style=\"text-align: center; font-size: 24px;\">\n",
                "Линейная однородная система дифференциальных уравнений 1-го порядка с постоянными коэффициентами. Линейный дифференциальный оператор, его свойства (с доказательствами).\n",
                "</div>"
            ]
        }
    ],
    "metadata": {
        "language_info": {
            "name": "python"
        }
    },
    "nbformat": 4,
    "nbformat_minor": 2
}
