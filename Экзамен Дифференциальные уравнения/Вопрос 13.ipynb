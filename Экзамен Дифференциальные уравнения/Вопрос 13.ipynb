{
 "cells": [
  {
   "cell_type": "markdown",
   "id": "aed5a17c",
   "metadata": {},
   "source": [
    "<div style=\"text-align: center; font-size: 24px;\">\n",
    "Теорема существование и единственности решения дифференциального уравнения 1-го порядка (формулировка). Особые решения\n",
    "</div>"
   ]
  },
  {
   "cell_type": "markdown",
   "id": "f4c0556d",
   "metadata": {},
   "source": [
    "**Т ( существования и единственности )** $:$ задана задача Коши $\\begin{cases}y'=f(x,\\,y)\\\\y(x_0)=y_0\\end{cases}$\n",
    "пусть функция $f(x,\\,y)$ непрерывна по $x$ и $y$ в области $D$ $\\left\\{\\begin{matrix}|x-x_0|\\le a\\,,\\\\|y-y_0|\\le b\\end{matrix}\\right\\}$ и $\\displaystyle\\left|\\frac{\\partial f}{\\partial y}\\right|\\le N$ в области $D$, тогда на отрезке $\\sigma\\in[\\,x_0-\\delta;\\,x_0+\\delta\\,]$ существует единственное решение $y(x)$ дифференциального уравнения, удовлетворяющее начальному условию, при том выполняется неравенство $|y(x)-y(x_0)|\\le b$ и функция $y(x)$ непрерывна и дифференцируема на отрезке $\\sigma$, где $\\delta =\\min\\{\\,a;\\,\\frac{1}{N}\\}$"
   ]
  },
  {
   "cell_type": "markdown",
   "id": "e5fce04f",
   "metadata": {},
   "source": [
    "**Особое множество** — это множество точек $(x,\\,y)$, в которых нарушается теорема о существовании и единственности."
   ]
  },
  {
   "cell_type": "markdown",
   "id": "98409efc",
   "metadata": {},
   "source": [
    "**Особые решения** — это решения, в которых нарушается теорема о существовании и единственности."
   ]
  },
  {
   "cell_type": "markdown",
   "id": "0d332659",
   "metadata": {},
   "source": [
    "**Огибающая однопараметрического семейства кривых** — линия $\\Phi(x,\\,y,\\,C)=0$, которая в каждой точке касается той или иной кривой семейства, причём в различных точках её касаются различные линии семейства. Вся кривая состоит из точек касания."
   ]
  },
  {
   "cell_type": "markdown",
   "id": "57e46592",
   "metadata": {},
   "source": [
    "Огибающая находится из системы $:$\n",
    "$$\n",
    "\\begin{cases}\n",
    "\\Phi(x,\\,y,\\,C)=0\\\\\n",
    "\\displaystyle\\frac{\\partial\\Phi}{\\partial C}=0\n",
    "\\end{cases}\n",
    "$$"
   ]
  },
  {
   "cell_type": "markdown",
   "id": "91730042",
   "metadata": {},
   "source": [
    "Для получения огибающей достаточно найти точки, в которых нарушается теорема существования и единственности."
   ]
  }
 ],
 "metadata": {
  "kernelspec": {
   "display_name": "Python 3",
   "language": "python",
   "name": "python3"
  },
  "language_info": {
   "codemirror_mode": {
    "name": "ipython",
    "version": 3
   },
   "file_extension": ".py",
   "mimetype": "text/x-python",
   "name": "python",
   "pygments_lexer": "ipython3",
   "version": "3.8.10"
  }
 },
 "nbformat": 4,
 "nbformat_minor": 5
}
