{
 "cells": [
  {
   "cell_type": "markdown",
   "metadata": {},
   "source": [
    "$$ E = mc^2 $$\n",
    "\n",
    "Формула внутри текста: $\\frac{dy}{dx} = x^2$.\n",
    "\n",
    "![Элипс](Ресурсы/Ellips.png)"
   ]
  }
 ],
 "metadata": {
  "language_info": {
   "name": "python"
  }
 },
 "nbformat": 4,
 "nbformat_minor": 2
}
