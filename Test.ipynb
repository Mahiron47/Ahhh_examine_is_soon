{
 "cells": [
  {
   "cell_type": "markdown",
   "metadata": {},
   "source": [
    "$$ E = mc^2 $$\n",
    "\n",
    "Формула внутри текста: $\\frac{dy}{dx} = x^2$.\n",
    "\n",
    "![kit](https://github.com/Mahiron47/ExaminationDiffurs/blob/2c1bf145d4b540b5cc1798578c3973868e27ba06/%D0%A0%D0%B5%D1%81%D1%83%D1%80%D1%81%D1%8B/Ellips.png)"
   ]
  }
 ],
 "metadata": {
  "language_info": {
   "name": "python"
  }
 },
 "nbformat": 4,
 "nbformat_minor": 2
}
