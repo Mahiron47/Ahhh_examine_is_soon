{
 "cells": [
  {
   "cell_type": "markdown",
   "metadata": {},
   "source": [
    "$$ E = mc^2 $$\n",
    "\n",
    "Формула внутри текста: $\\frac{dy}{dx} = x^2$.\n",
    "\n",
    "<img src="https://discordapp.com/api/guilds/181078474394566657/widget.png?style=banner4">"
   ]
  }
 ],
 "metadata": {
  "language_info": {
   "name": "python"
  }
 },
 "nbformat": 4,
 "nbformat_minor": 2
}
