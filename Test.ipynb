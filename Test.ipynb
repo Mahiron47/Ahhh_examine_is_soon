{
 "cells": [
  {
   "cell_type": "markdown",
   "metadata": {},
   "source": [
    "$$ E = mc^2 $$\n",
    "\n",
    "Формула внутри текста: $\\frac{dy}{dx} = x^2$.\n",
    "\n",
    "<img src="https://github.com/Mahiron47/ExaminationDiffurs/blob/main/Ресурсы/Ellips.png">"
   ]
  }
 ],
 "metadata": {
  "language_info": {
   "name": "python"
  }
 },
 "nbformat": 4,
 "nbformat_minor": 2
}
