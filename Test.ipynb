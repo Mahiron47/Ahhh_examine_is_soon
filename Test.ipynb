{
 "cells": [
  {
   "cell_type": "markdown",
   "metadata": {},
   "source": [
    "$$ E = mc^2 $$\n",
    "\n",
    "Формула внутри текста: $\\frac{dy}{dx} = x^2$.\n",
    "\n",
    "![kit](https://github.com/Mahiron47/ExaminationDiffurs/blob/main/%D0%A0%D0%B5%D1%81%D1%83%D1%80%D1%81%D1%8B/Ellips.png)"
   ]
  }
 ],
 "metadata": {
  "language_info": {
   "name": "python"
  }
 },
 "nbformat": 4,
 "nbformat_minor": 2
}
